{
  "nbformat": 4,
  "nbformat_minor": 0,
  "metadata": {
    "colab": {
      "name": "TheChaosGame.ipynb",
      "provenance": [],
      "authorship_tag": "ABX9TyPjrI5/7bQ55Q68oTNW84q4",
      "include_colab_link": true
    },
    "kernelspec": {
      "name": "python3",
      "display_name": "Python 3"
    },
    "language_info": {
      "name": "python"
    }
  },
  "cells": [
    {
      "cell_type": "markdown",
      "metadata": {
        "id": "view-in-github",
        "colab_type": "text"
      },
      "source": [
        "<a href=\"https://colab.research.google.com/github/sean-condie/jupyter_notebooks/blob/main/TheChaosGame.ipynb\" target=\"_parent\"><img src=\"https://colab.research.google.com/assets/colab-badge.svg\" alt=\"Open In Colab\"/></a>"
      ]
    },
    {
      "cell_type": "markdown",
      "metadata": {
        "id": "j5ybEvq-gg0W"
      },
      "source": [
        "The chaos game is an example of finding order in chaos. The fact that a patern is generated from seemingly random inputs suggests that we are dealing with a type of attractor. "
      ]
    },
    {
      "cell_type": "markdown",
      "metadata": {
        "id": "wNh7QdbciptP"
      },
      "source": [
        "Lets import our modules:"
      ]
    },
    {
      "cell_type": "code",
      "metadata": {
        "id": "ocwyq0oifng6"
      },
      "source": [
        "import random\n",
        "import time\n",
        "import math\n",
        "import numpy as np\n",
        "import matplotlib.pyplot as plt"
      ],
      "execution_count": 35,
      "outputs": []
    },
    {
      "cell_type": "markdown",
      "metadata": {
        "id": "yudvvSnXkLgS"
      },
      "source": [
        "To begin we need our \"seed\" points. These points are used by the randomly generated numbers to calculate where the next point should be. These points can be *anywhere*."
      ]
    },
    {
      "cell_type": "code",
      "metadata": {
        "id": "JVnZKQwRkwIT"
      },
      "source": [
        "ax, ay = 0, 0 #seed 1\n",
        "bx, by = 0, 0 #seed 2\n",
        "cx, cy = 0, 0 #seed 3"
      ],
      "execution_count": 37,
      "outputs": []
    },
    {
      "cell_type": "markdown",
      "metadata": {
        "id": "cKR979T_niGE"
      },
      "source": [
        "Lets just assign random values for the points."
      ]
    },
    {
      "cell_type": "code",
      "metadata": {
        "colab": {
          "base_uri": "https://localhost:8080/",
          "height": 487
        },
        "id": "ZxyssC6-n_8-",
        "outputId": "6be8f071-c1f1-41e7-a5da-2885ba22a2d4"
      },
      "source": [
        "#seed the random module with the current time\n",
        "random.seed(int(round(time.time()*1000)))\n",
        "\n",
        "#generate random numbers for each point\n",
        "ax = round(random.uniform(0.25,0.75), 2) #point a is limited to the top-middle\n",
        "ay = round(random.uniform(0.75,1), 2)\n",
        "\n",
        "bx = round(random.uniform(0,0.25), 2) #point b is limited to the bottom-left\n",
        "by = round(random.uniform(0,0.25), 2)\n",
        "\n",
        "cx = round(random.uniform(0.75,1), 2) #point c is limited to the bottom-right\n",
        "cy = round(random.uniform(0,0.25), 2)\n",
        "\n",
        "#arrange the x and y values together\n",
        "x = np.array([ax, bx, cx])\n",
        "y = np.array([ay, by, cy])\n",
        "\n",
        "#set the size of the canvas/figure\n",
        "plt.figure(figsize=(8,8))\n",
        "\n",
        "#force axis range\n",
        "plt.xlim([0.0, 1.0])\n",
        "plt.ylim([0.0, 1.0])\n",
        "\n",
        "#plot the points\n",
        "plt.plot(x, y, \"ko\")\n",
        "\n",
        "#show the figure\n",
        "plt.show()\n"
      ],
      "execution_count": 138,
      "outputs": [
        {
          "output_type": "display_data",
          "data": {
            "image/png": "[encoded data removed]",
            "text/plain": [
              "<Figure size 576x576 with 1 Axes>"
            ]
          },
          "metadata": {
            "tags": [],
            "needs_background": "light"
          }
        }
      ]
    },
    {
      "cell_type": "markdown",
      "metadata": {
        "id": "gPMUYRQj1YRE"
      },
      "source": [
        "Now that we have our canvas with three seed points, we need to generate one more random point. This new random point will then select, at random, one of the seed point and move 1/2 of the distance to it. "
      ]
    },
    {
      "cell_type": "code",
      "metadata": {
        "colab": {
          "base_uri": "https://localhost:8080/",
          "height": 487
        },
        "id": "vTm-IXt04luo",
        "outputId": "bd8009ce-ecdf-42fb-de88-4ce77be0fc44"
      },
      "source": [
        "#seed the random module with the current time\n",
        "random.seed(int(round(time.time()*1000)))\n",
        "\n",
        "#generate random numbers for each point\n",
        "ax = round(random.uniform(0.25,0.75), 2) #point a is limited to the top-middle\n",
        "ay = round(random.uniform(0.75,1), 2)\n",
        "\n",
        "bx = round(random.uniform(0,0.25), 2) #point b is limited to the bottom-left\n",
        "by = round(random.uniform(0,0.25), 2)\n",
        "\n",
        "cx = round(random.uniform(0.75,1), 2) #point c is limited to the bottom-right\n",
        "cy = round(random.uniform(0,0.25), 2)\n",
        "\n",
        "#arrange the x and y values together\n",
        "x = np.array([ax, bx, cx])\n",
        "y = np.array([ay, by, cy])\n",
        "\n",
        "#set the size of the canvas/figure\n",
        "plt.figure(figsize=(8,8))\n",
        "\n",
        "#force axis range\n",
        "plt.xlim([0.0, 1.0])\n",
        "plt.ylim([0.0, 1.0])\n",
        "\n",
        "#plot the points (plotted in black)\n",
        "plt.plot(x, y, \"ko\")\n",
        "\n",
        "#generate our new random point (plotted in blue)\n",
        "rx, ry = random.random(), random.random()\n",
        "plt.plot(rx, ry, \"bo\")\n",
        "\n",
        "#distance to travel to the seed point\n",
        "dist = 0.5\n",
        "\n",
        "#select, at random, one of the three seed points\n",
        "rndSeed = random.randrange(1,3)\n",
        "\n",
        "#initialize the new halfway point \n",
        "newX, newY = 0, 0\n",
        "\n",
        "#set and plot new point depending on the seed selected (plotted in cyan)\n",
        "if rndSeed == 1:\n",
        "  #seed a was randomly selected\n",
        "  newX = rx + ((ax - rx) * dist)\n",
        "  newY = ry + ((ay - ry) * dist)\n",
        "  plt.plot(newX, newY, \"co\")\n",
        "elif rndSeed == 2:\n",
        "  #seed b was randomly selected\n",
        "  newX = rx + ((bx - rx) * dist)\n",
        "  newY = ry + ((by - ry) * dist)\n",
        "  plt.plot(newX, newY, \"co\")\n",
        "else:\n",
        "  #seed c was randomly selected\n",
        "  newX = rx + ((cx - rx) * dist)\n",
        "  newY = ry + ((cy - ry) * dist)\n",
        "  plt.plot(newX, newY, \"co\")\n",
        "\n",
        "#display the figure \n",
        "plt.show()\n"
      ],
      "execution_count": 157,
      "outputs": [
        {
          "output_type": "display_data",
          "data": {
            "image/png": "[encoded data removed]",
            "text/plain": [
              "<Figure size 576x576 with 1 Axes>"
            ]
          },
          "metadata": {
            "tags": [],
            "needs_background": "light"
          }
        }
      ]
    },
    {
      "cell_type": "markdown",
      "metadata": {
        "id": "v1Wg0Tr9-72i"
      },
      "source": [
        "Now lets do this several thousand times and see what happens!"
      ]
    },
    {
      "cell_type": "code",
      "metadata": {
        "colab": {
          "base_uri": "https://localhost:8080/",
          "height": 487
        },
        "id": "1cAvXc98_C75",
        "outputId": "69740597-ca6b-46c6-8a81-0f3f82e962a8"
      },
      "source": [
        "#seed the random module with the current time\n",
        "random.seed(int(round(time.time()*1000)))\n",
        "\n",
        "#generate random numbers for each point\n",
        "ax = round(random.uniform(0.25,0.75), 2) #point a is limited to the top-middle\n",
        "ay = round(random.uniform(0.75,1), 2)\n",
        "\n",
        "bx = round(random.uniform(0,0.25), 2) #point b is limited to the bottom-left\n",
        "by = round(random.uniform(0,0.25), 2)\n",
        "\n",
        "cx = round(random.uniform(0.75,1), 2) #point c is limited to the bottom-right\n",
        "cy = round(random.uniform(0,0.25), 2)\n",
        "\n",
        "#arrange the x and y values together\n",
        "x = np.array([ax, bx, cx])\n",
        "y = np.array([ay, by, cy])\n",
        "\n",
        "#set the size of the canvas/figure\n",
        "plt.figure(figsize=(8,8))\n",
        "\n",
        "#force axis range\n",
        "plt.xlim([0.0, 1.0])\n",
        "plt.ylim([0.0, 1.0])\n",
        "\n",
        "#plot the points (plotted in black)\n",
        "plt.plot(x, y, \"ko\")\n",
        "\n",
        "#generate our new random point (plotted in blue)\n",
        "rx, ry = random.random(), random.random()\n",
        "plt.plot(rx, ry, \"bo\")\n",
        "\n",
        "#distance to travel to the seed point\n",
        "dist = 0.5\n",
        "\n",
        "#number of iterations to perform\n",
        "numLoops = 10000\n",
        "\n",
        "#for speed, lets generate arrays with the number of iterations and then just update each index with the new points\n",
        "nx = np.arange(numLoops, dtype=float) #default datatype is int but our new points are floats\n",
        "ny = np.arange(numLoops, dtype=float)\n",
        "\n",
        "#plot 10,000 points\n",
        "for i in range(numLoops):\n",
        "  #select, at random, one of the three seed points\n",
        "  rndSeed = random.randint(1,3)\n",
        "\n",
        "  #set and plot new point depending on the seed selected (plotted in cyan)\n",
        "  if rndSeed == 1:\n",
        "    #seed a was randomly selected\n",
        "    rx = rx + ((ax - rx) * dist) \n",
        "    ry = ry + ((ay - ry) * dist)\n",
        "    nx[i] = rx #update the arrays at the current index\n",
        "    ny[i] = ry\n",
        "  elif rndSeed == 2:\n",
        "    #seed b was randomly selected\n",
        "    rx = rx + ((bx - rx) * dist)\n",
        "    ry = ry + ((by - ry) * dist)\n",
        "    nx[i] = rx #update the arrays at the current index\n",
        "    ny[i] = ry\n",
        "  else:\n",
        "    #seed c was randomly selected\n",
        "    rx = rx + ((cx - rx) * dist)\n",
        "    ry = ry + ((cy - ry) * dist)\n",
        "    nx[i] = rx #update the arrays at the current index\n",
        "    ny[i] = ry\n",
        "\n",
        "plt.plot(nx, ny, \"co\")\n",
        "#display the figure \n",
        "plt.show()\n"
      ],
      "execution_count": 186,
      "outputs": [
        {
          "output_type": "display_data",
          "data": {
            "image/png": "[encoded data removed]",
            "text/plain": [
              "<Figure size 576x576 with 1 Axes>"
            ]
          },
          "metadata": {
            "tags": [],
            "needs_background": "light"
          }
        }
      ]
    }
  ]
}